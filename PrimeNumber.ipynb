{
  "nbformat": 4,
  "nbformat_minor": 0,
  "metadata": {
    "colab": {
      "provenance": [],
      "authorship_tag": "ABX9TyPX7uoc7KXqMSry4r0vOc4s",
      "include_colab_link": true
    },
    "kernelspec": {
      "name": "python3",
      "display_name": "Python 3"
    },
    "language_info": {
      "name": "python"
    }
  },
  "cells": [
    {
      "cell_type": "markdown",
      "metadata": {
        "id": "view-in-github",
        "colab_type": "text"
      },
      "source": [
        "<a href=\"https://colab.research.google.com/github/VasanthKumarTJ/Python-Notes/blob/main/PrimeNumber.ipynb\" target=\"_parent\"><img src=\"https://colab.research.google.com/assets/colab-badge.svg\" alt=\"Open In Colab\"/></a>"
      ]
    },
    {
      "cell_type": "markdown",
      "source": [
        "**Prime Numbers**"
      ],
      "metadata": {
        "id": "XpjSkEgnrJ1d"
      }
    },
    {
      "cell_type": "code",
      "execution_count": null,
      "metadata": {
        "id": "EYxQhqESMTyk"
      },
      "outputs": [],
      "source": [
        "# def PrimeOrNot(numbers):\n",
        "#   primeNumber =[]\n",
        "#   for number in numbers:\n",
        "#     if number > 1:\n",
        "#       for i in range(2, int(number/2)+1):\n",
        "#         if number%i == 0:\n",
        "#           print(f\"{number} equals {i} * {number//i}\")\n",
        "#           break\n",
        "#       else:\n",
        "#         print(f\"{number} is prime number\")\n",
        "#         primeNumber.append(number)\n",
        "#     else:\n",
        "#       pass\n",
        "#   return primeNumber\n",
        "\n",
        "def PrimeOrNot(numbers):\n",
        "    return [n for n in numbers if n > 1 and all(n % i != 0 for i in range(2, int(n ** 0.5) + 1))]"
      ]
    },
    {
      "cell_type": "code",
      "source": [
        "numbers = [3, 4, 7, 10, 11, 13, 15, 18]\n",
        "print(PrimeOrNot(numbers))  # Output: [3, 7, 11, 13]"
      ],
      "metadata": {
        "colab": {
          "base_uri": "https://localhost:8080/"
        },
        "id": "IXOr4pZmZW6S",
        "outputId": "b816b69a-acc7-4c7b-a098-d03ab8b75a0b"
      },
      "execution_count": null,
      "outputs": [
        {
          "output_type": "stream",
          "name": "stdout",
          "text": [
            "[3, 7, 11, 13]\n"
          ]
        }
      ]
    },
    {
      "cell_type": "code",
      "source": [
        "2**3"
      ],
      "metadata": {
        "colab": {
          "base_uri": "https://localhost:8080/"
        },
        "id": "Q73m7fQVZhIU",
        "outputId": "e5bf3689-7dab-4c86-dc69-5bc9131de784"
      },
      "execution_count": null,
      "outputs": [
        {
          "output_type": "execute_result",
          "data": {
            "text/plain": [
              "8"
            ]
          },
          "metadata": {},
          "execution_count": 36
        }
      ]
    }
  ]
}