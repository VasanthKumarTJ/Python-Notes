{
 "cells": [
  {
   "cell_type": "code",
   "execution_count": 1,
   "id": "fc4643df-794b-404a-a848-db279582c4b2",
   "metadata": {},
   "outputs": [],
   "source": [
    "# https://docs.python.org/2/library/collections.html#collections.Counter"
   ]
  },
  {
   "cell_type": "code",
   "execution_count": 8,
   "id": "9ab660cb-a7c2-49be-8379-7ca73f3f1aed",
   "metadata": {
    "collapsed": true,
    "jupyter": {
     "outputs_hidden": true
    }
   },
   "outputs": [
    {
     "name": "stdout",
     "output_type": "stream",
     "text": [
      "0\n",
      "0\n",
      "0\n",
      "0\n",
      "0\n",
      "0\n"
     ]
    }
   ],
   "source": [
    "# Tally occurrences of words in a list\n",
    "from collections import Counter\n",
    "cnt = Counter()\n",
    "for word in ['red', 'blue', 'red', 'green', 'blue', 'blue']:\n",
    "    printcnt[word] += 1\n",
    "# print(cnt)"
   ]
  },
  {
   "cell_type": "code",
   "execution_count": 29,
   "id": "517e7e3a-84c6-45d3-8849-0083c43c5f65",
   "metadata": {},
   "outputs": [
    {
     "name": "stdin",
     "output_type": "stream",
     "text": [
      " 4\n",
      " 1 2 2 4\n"
     ]
    },
    {
     "name": "stdout",
     "output_type": "stream",
     "text": [
      "Counter({2: 2, 1: 1, 4: 1})\n"
     ]
    },
    {
     "name": "stdin",
     "output_type": "stream",
     "text": [
      " 3\n",
      " 4 40\n",
      " 2 40\n",
      " 5 15\n"
     ]
    },
    {
     "name": "stdout",
     "output_type": "stream",
     "text": [
      "80\n"
     ]
    }
   ],
   "source": [
    "from collections import Counter\n",
    "\n",
    "num_of_shoes = int(input())\n",
    "list_of_shoes = list(map(int, input().split()))\n",
    "\n",
    "count_of_shoes = Counter(list_of_shoes)\n",
    "print(count_of_shoes)\n",
    "\n",
    "num_of_customers = int(input())\n",
    "\n",
    "total = 0\n",
    "\n",
    "for customer in range(num_of_customers):\n",
    "    size, price = list(map(int, input().split()))\n",
    "    if size in count_of_shoes.keys():\n",
    "      if count_of_shoes[size] > 0:\n",
    "          count_of_shoes[size] = count_of_shoes[size] - 1\n",
    "          total += price\n",
    "print(total)"
   ]
  },
  {
   "cell_type": "code",
   "execution_count": null,
   "id": "6204c996-ea1a-4653-8ed4-3167422297b0",
   "metadata": {},
   "outputs": [],
   "source": []
  }
 ],
 "metadata": {
  "kernelspec": {
   "display_name": "Python 3 (ipykernel)",
   "language": "python",
   "name": "python3"
  },
  "language_info": {
   "codemirror_mode": {
    "name": "ipython",
    "version": 3
   },
   "file_extension": ".py",
   "mimetype": "text/x-python",
   "name": "python",
   "nbconvert_exporter": "python",
   "pygments_lexer": "ipython3",
   "version": "3.12.4"
  }
 },
 "nbformat": 4,
 "nbformat_minor": 5
}
