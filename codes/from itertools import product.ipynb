{
 "cells": [
  {
   "cell_type": "code",
   "execution_count": 10,
   "id": "3b8674bf-f0ce-46ee-9ab9-5f5eeebd83e2",
   "metadata": {},
   "outputs": [
    {
     "name": "stdout",
     "output_type": "stream",
     "text": [
      "('A', 'A', 'A') ('A', 'A', 'B') ('A', 'A', 'C') ('A', 'A', 'D') ('A', 'B', 'A') ('A', 'B', 'B') ('A', 'B', 'C') ('A', 'B', 'D') ('A', 'C', 'A') ('A', 'C', 'B') ('A', 'C', 'C') ('A', 'C', 'D') ('A', 'D', 'A') ('A', 'D', 'B') ('A', 'D', 'C') ('A', 'D', 'D') ('B', 'A', 'A') ('B', 'A', 'B') ('B', 'A', 'C') ('B', 'A', 'D') ('B', 'B', 'A') ('B', 'B', 'B') ('B', 'B', 'C') ('B', 'B', 'D') ('B', 'C', 'A') ('B', 'C', 'B') ('B', 'C', 'C') ('B', 'C', 'D') ('B', 'D', 'A') ('B', 'D', 'B') ('B', 'D', 'C') ('B', 'D', 'D') ('C', 'A', 'A') ('C', 'A', 'B') ('C', 'A', 'C') ('C', 'A', 'D') ('C', 'B', 'A') ('C', 'B', 'B') ('C', 'B', 'C') ('C', 'B', 'D') ('C', 'C', 'A') ('C', 'C', 'B') ('C', 'C', 'C') ('C', 'C', 'D') ('C', 'D', 'A') ('C', 'D', 'B') ('C', 'D', 'C') ('C', 'D', 'D') ('D', 'A', 'A') ('D', 'A', 'B') ('D', 'A', 'C') ('D', 'A', 'D') ('D', 'B', 'A') ('D', 'B', 'B') ('D', 'B', 'C') ('D', 'B', 'D') ('D', 'C', 'A') ('D', 'C', 'B') ('D', 'C', 'C') ('D', 'C', 'D') ('D', 'D', 'A') ('D', 'D', 'B') ('D', 'D', 'C') ('D', 'D', 'D')\n"
     ]
    }
   ],
   "source": [
    "from itertools import product\n",
    "print(*list(product('ABCD', repeat=3)))"
   ]
  },
  {
   "cell_type": "code",
   "execution_count": null,
   "id": "a155fcf9-5cd9-4ef4-8547-45d4d3a740d5",
   "metadata": {},
   "outputs": [],
   "source": []
  }
 ],
 "metadata": {
  "kernelspec": {
   "display_name": "Python 3 (ipykernel)",
   "language": "python",
   "name": "python3"
  },
  "language_info": {
   "codemirror_mode": {
    "name": "ipython",
    "version": 3
   },
   "file_extension": ".py",
   "mimetype": "text/x-python",
   "name": "python",
   "nbconvert_exporter": "python",
   "pygments_lexer": "ipython3",
   "version": "3.12.4"
  }
 },
 "nbformat": 4,
 "nbformat_minor": 5
}
